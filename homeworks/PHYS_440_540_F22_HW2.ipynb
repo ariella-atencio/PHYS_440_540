{
 "cells": [
  {
   "cell_type": "markdown",
   "metadata": {},
   "source": [
    "# Homework 2: Problems (due 5 October 2022 before class)\n",
    "### PHYS 440/540, Fall 2022\n",
    "https://github.com/gtrichards/PHYS_440_540/\n",
    "\n",
    "\n",
    "## Problem 1 (hint: watch the 2020 lecture recording!)\n",
    "\n",
    "This question is about IQ. It is questionionable whether this is a meaningful metric, but it is useful for this problem. By definition, IQ is calibrated as a Gaussian distribution with $\\mu=100$ and $\\sigma=15$. \n",
    "\n",
    "1) Create a `scipy.stats` Gaussian object with these properties. Plot the distribution, and print out 10 random draws, along with the pdf at $x=145$. \n",
    "\n",
    "2) Access the `cdf` property of the Gaussian object and plot it over the same $x$-range as in (1) but in a different figure. \n",
    "\n",
    "3) Access the `ppf` property (percent point function) and use *inverse transform sampling* of the cdf to draw $10^4$ random samples, and make a histogram of these. Overplot the pdf from (1). These should match.\n",
    "\n",
    "4) What fraction of people have IQ > 145? *Hint: investigate all the properties of the Gaussian object from (1) to find the relevant property that gives you this, or perform a calculation involving the cdf.*\n",
    "\n",
    "5) What IQ corresponds to \"one in a million\"?\n",
    "\n",
    "\n",
    "## Problem 2\n",
    "Follow the example from the Central Limit Theorem cells in BasicStats2.ipynb and simulate the distribution of 1,000,000 draws of a (very) non-Gaussian distribution (for example chi-square with low $k$).  Demonstrate that the result confirms the central limit theorem by showing that the mean of the draws becomes Gaussian with large `N`.\n",
    "\n",
    "Note that you'll need functions to both generate the true distribution and also to take random draws from it.\n",
    "\n",
    "See below for code starter.\n",
    "\n",
    "\n",
    "## Problem 3\n",
    "\n",
    "On Data Camp:\n",
    "\n",
    "Do Chapters 1 and 2 of \"Exploratory Data Analysis in Python\" to get some practice with CDF.  \n",
    "\n",
    "Chapter 2 is actually the only one that I care about, but it makes sense to do chapter 1 to give you some context.  Chapter 1 introduces some Pandas tools.  I'm not planning on assigning the \"Data Manipulation with Pandas\" course, but you might find that useful as well.  \n",
    "\n",
    "Note this lesson talks about PMFs.  A PMF is a PDF for a discrete distribution.  For the sake of comparing this assignment to class you can think of PMFs and PDFs as the same thing."
   ]
  },
  {
   "cell_type": "code",
   "execution_count": 4,
   "metadata": {},
   "outputs": [
    {
     "data": {
      "text/plain": [
       "[<matplotlib.lines.Line2D at 0x7f8f728749d0>]"
      ]
     },
     "execution_count": 4,
     "metadata": {},
     "output_type": "execute_result"
    },
    {
     "data": {
      "image/png": "[encoded data removed]",
      "text/plain": [
       "<Figure size 432x288 with 1 Axes>"
      ]
     },
     "metadata": {
      "needs_background": "light"
     },
     "output_type": "display_data"
    },
    {
     "data": {
      "image/png": "[encoded data removed]",
      "text/plain": [
       "<Figure size 360x270 with 1 Axes>"
      ]
     },
     "metadata": {
      "needs_background": "light"
     },
     "output_type": "display_data"
    }
   ],
   "source": [
    "#Problem 1, Part 1 starter code\n",
    "from scipy import stats\n",
    "import numpy as np\n",
    "from scipy.stats import norm\n",
    "from matplotlib import pyplot as plt\n",
    "\n",
    "mu = 100\n",
    "sigma = 15\n",
    "\n",
    "distG = stats.norm(loc=mu,scale=sigma) # Normal distribution with mean, stdev\n",
    "\n",
    "xgrid = np.linspace(-0.5,2,1000) # generate distribution for a uniform grid of x values\n",
    "gaussPDF = plt.plot(xgrid)  # y values for each x\n",
    "\n",
    "xrvs = np.random.random(10) # 10 random draws\n",
    "\n",
    "\n",
    "# actual plotting\n",
    "fig, ax = plt.subplots(figsize=(5, 3.75))\n",
    "plt.plot(xgrid, distG.pdf(xgrid), ls='-', c='black')\n",
    "plt.plot(xrvs, 0*xrvs, '|', markersize=50)  #Plotting the 10 random draws"
   ]
  },
  {
   "cell_type": "code",
   "execution_count": 2,
   "metadata": {},
   "outputs": [
    {
     "data": {
      "text/plain": [
       "[<matplotlib.lines.Line2D at 0x7f8f729fa700>]"
      ]
     },
     "execution_count": 2,
     "metadata": {},
     "output_type": "execute_result"
    },
    {
     "data": {
      "image/png": "[encoded data removed]",
      "text/plain": [
       "<Figure size 360x270 with 1 Axes>"
      ]
     },
     "metadata": {
      "needs_background": "light"
     },
     "output_type": "display_data"
    }
   ],
   "source": [
    "#Problem 1, Part 2 starter code\n",
    "\n",
    "#The same as above but now with the cdf method\n",
    "gaussCDF = distG.cdf(xgrid)\n",
    "fig, ax = plt.subplots(figsize=(5, 3.75))\n",
    "plt.plot(xgrid, gaussCDF, ls='-', c='black')"
   ]
  },
  {
   "cell_type": "code",
   "execution_count": 8,
   "metadata": {},
   "outputs": [
    {
     "data": {
      "text/plain": [
       "(array([2048.41708178,  133.85397965,   84.22272877,   62.41505793,\n",
       "          50.38323953,   42.86335303,   37.59943248,   33.08750059,\n",
       "          29.32755734,   27.82358004,   24.81562544,   24.06363679,\n",
       "          21.80767084,   21.05568219,   19.55170489,   18.79971624,\n",
       "          18.04772759,   17.29573894,   16.54375029,   16.54375029,\n",
       "          15.03977299,   15.03977299,   14.28778434,   14.28778434,\n",
       "          13.53579569,   13.53579569,   12.78380704,   12.78380704,\n",
       "          12.78380704,   12.0318184 ,   12.0318184 ,   12.0318184 ,\n",
       "          11.27982975,   11.27982975,   11.27982975,   11.27982975,\n",
       "          10.5278411 ,   11.27982975,   10.5278411 ,   10.5278411 ,\n",
       "          10.5278411 ,    9.77585245,   10.5278411 ,    9.77585245,\n",
       "           9.77585245,    9.77585245,    9.77585245,    9.77585245,\n",
       "           9.77585245,    9.77585245,    9.77585245,    9.0238638 ,\n",
       "           9.77585245,    9.0238638 ,    9.77585245,    9.0238638 ,\n",
       "           9.77585245,    9.0238638 ,    9.77585245,    9.0238638 ,\n",
       "           9.0238638 ,    9.77585245,    9.0238638 ,    9.0238638 ,\n",
       "           9.77585245,    9.0238638 ,    9.77585245,    9.0238638 ,\n",
       "           9.77585245,    9.77585245,    9.0238638 ,    9.77585245,\n",
       "           9.77585245,    9.77585245,    9.77585245,    9.77585245,\n",
       "          10.5278411 ,    9.77585245,   10.5278411 ,   10.5278411 ,\n",
       "          10.5278411 ,   11.27982975,   10.5278411 ,   11.27982975,\n",
       "          11.27982975,   12.0318184 ,   12.0318184 ,   12.78380704,\n",
       "          12.78380704,   13.53579569,   13.53579569,   15.03977299,\n",
       "          15.03977299,   16.54375029,   18.04772759,   19.55170489,\n",
       "          21.80767084,   25.56761409,   33.83948924,   79.71079687]),\n",
       " array([5.94060012e-12, 2.65961467e-04, 5.31922928e-04, 7.97884389e-04,\n",
       "        1.06384585e-03, 1.32980731e-03, 1.59576877e-03, 1.86173023e-03,\n",
       "        2.12769169e-03, 2.39365316e-03, 2.65961462e-03, 2.92557608e-03,\n",
       "        3.19153754e-03, 3.45749900e-03, 3.72346046e-03, 3.98942192e-03,\n",
       "        4.25538338e-03, 4.52134484e-03, 4.78730631e-03, 5.05326777e-03,\n",
       "        5.31922923e-03, 5.58519069e-03, 5.85115215e-03, 6.11711361e-03,\n",
       "        6.38307507e-03, 6.64903653e-03, 6.91499799e-03, 7.18095946e-03,\n",
       "        7.44692092e-03, 7.71288238e-03, 7.97884384e-03, 8.24480530e-03,\n",
       "        8.51076676e-03, 8.77672822e-03, 9.04268968e-03, 9.30865114e-03,\n",
       "        9.57461261e-03, 9.84057407e-03, 1.01065355e-02, 1.03724970e-02,\n",
       "        1.06384584e-02, 1.09044199e-02, 1.11703814e-02, 1.14363428e-02,\n",
       "        1.17023043e-02, 1.19682658e-02, 1.22342272e-02, 1.25001887e-02,\n",
       "        1.27661501e-02, 1.30321116e-02, 1.32980731e-02, 1.35640345e-02,\n",
       "        1.38299960e-02, 1.40959574e-02, 1.43619189e-02, 1.46278804e-02,\n",
       "        1.48938418e-02, 1.51598033e-02, 1.54257647e-02, 1.56917262e-02,\n",
       "        1.59576877e-02, 1.62236491e-02, 1.64896106e-02, 1.67555721e-02,\n",
       "        1.70215335e-02, 1.72874950e-02, 1.75534564e-02, 1.78194179e-02,\n",
       "        1.80853794e-02, 1.83513408e-02, 1.86173023e-02, 1.88832637e-02,\n",
       "        1.91492252e-02, 1.94151867e-02, 1.96811481e-02, 1.99471096e-02,\n",
       "        2.02130710e-02, 2.04790325e-02, 2.07449940e-02, 2.10109554e-02,\n",
       "        2.12769169e-02, 2.15428784e-02, 2.18088398e-02, 2.20748013e-02,\n",
       "        2.23407627e-02, 2.26067242e-02, 2.28726857e-02, 2.31386471e-02,\n",
       "        2.34046086e-02, 2.36705700e-02, 2.39365315e-02, 2.42024930e-02,\n",
       "        2.44684544e-02, 2.47344159e-02, 2.50003773e-02, 2.52663388e-02,\n",
       "        2.55323003e-02, 2.57982617e-02, 2.60642232e-02, 2.63301847e-02,\n",
       "        2.65961461e-02]),\n",
       " [<matplotlib.patches.Polygon at 0x7f8f733fef10>])"
      ]
     },
     "execution_count": 8,
     "metadata": {},
     "output_type": "execute_result"
    },
    {
     "data": {
      "image/png": "[encoded data removed]",
      "text/plain": [
       "<Figure size 432x288 with 1 Axes>"
      ]
     },
     "metadata": {
      "needs_background": "light"
     },
     "output_type": "display_data"
    }
   ],
   "source": [
    "#Problem 1, Part 3 starter code\n",
    "\n",
    "#Sample the full distribution, but from the opposite direction as Part 1\n",
    "ppfvals = np.linspace(0,200,10000) #10000 probabilities to sample\n",
    "results = distG.pdf(ppfvals) #Value of the normal distribution at those probabilities\n",
    "\n",
    "plt.hist(results,bins=100,histtype='stepfilled', alpha=0.5, density=True)\n"
   ]
  },
  {
   "cell_type": "code",
   "execution_count": 9,
   "metadata": {},
   "outputs": [
    {
     "name": "stdout",
     "output_type": "stream",
     "text": [
      "0.0013498980316300933\n"
     ]
    }
   ],
   "source": [
    "#Problem 1, Part 4 starter code\n",
    "\n",
    "sf145 = distG.sf(145)\n",
    "print(sf145)"
   ]
  },
  {
   "cell_type": "code",
   "execution_count": 10,
   "metadata": {},
   "outputs": [
    {
     "name": "stdout",
     "output_type": "stream",
     "text": [
      "IQ= 171.30136463234348\n"
     ]
    }
   ],
   "source": [
    "#Problem 1, Part 5 starter code\n",
    "\n",
    "OneInAMillionVal = distG.isf(1e-6)\n",
    "print('IQ=', OneInAMillionVal)"
   ]
  },
  {
   "cell_type": "code",
   "execution_count": 14,
   "metadata": {},
   "outputs": [
    {
     "data": {
      "text/plain": [
       "[<matplotlib.lines.Line2D at 0x7f8f69b6afd0>]"
      ]
     },
     "execution_count": 14,
     "metadata": {},
     "output_type": "execute_result"
    },
    {
     "data": {
      "image/png": "[encoded data removed]",
      "text/plain": [
       "<Figure size 432x288 with 1 Axes>"
      ]
     },
     "metadata": {
      "needs_background": "light"
     },
     "output_type": "display_data"
    }
   ],
   "source": [
    "#Problem 2 starter coded\n",
    "import numpy as np\n",
    "from matplotlib import pyplot as plt\n",
    "from scipy.stats import norm\n",
    "from scipy import stats\n",
    "\n",
    "N=2 # Number of draws.  Show both small and large values\n",
    "mu=0.5\n",
    "sigma_h=1.0/np.sqrt(12)/np.sqrt(N)\n",
    "\n",
    "xgrid = np.linspace(-1,2,1000) # Array to sample the space\n",
    "\n",
    "dist = stats.norm(mu,sigma_h) # Complete\n",
    "plt.plot(xgrid,dist.pdf(xgrid)) # Complete\n",
    "\n",
    "#Rug plot of N random draws\n",
    "x = np.random.random(N) # N random draws\n",
    "plt.plot(x, 0*x, '|', markersize=50) #Rug plot of random draws\n",
    "plt.xlabel('x')\n",
    "plt.ylabel('pdf')\n",
    "plt.xlim(0,5) #Limit the x-axis range to make things easier to see\n",
    "\n",
    "# Repeat that 1,000,000 times, averaging the N draws each time\n",
    "# You could do this any number o ways (including with just 1 line)\n",
    "yy = []\n",
    "for i in np.arange(1000000): # Complete\n",
    "    xx = np.random.random(N) # N random draws\n",
    "    yy.append(xx.mean()) # Append average of those random draws to the end of the array\n",
    "\n",
    "#Plot the histogram with Scott or Freedman bins    \n",
    "_ = plt.hist(yy,bins=100,histtype=\"stepfilled\",alpha=0.5)\n",
    "\n",
    "#Overplot a Gaussian at the appropriate location\n",
    "distG = stats.norm(loc=mu,scale=np.sqrt(2*np.pi/N)) # Complete\n",
    "plt.plot(xgrid,dist.pdf(xgrid)) # Complete"
   ]
  },
  {
   "cell_type": "markdown",
   "metadata": {},
   "source": [
    "### Some useful definitions and functions"
   ]
  },
  {
   "cell_type": "code",
   "execution_count": 1,
   "metadata": {
    "collapsed": true
   },
   "outputs": [],
   "source": [
    "import numpy as np\n",
    "from matplotlib import pyplot as plt\n",
    "from scipy import stats\n",
    "from astroML.plotting import setup_text_plots\n",
    "from astroML.stats import sigmaG\n",
    "from astroML.plotting import hist as fancyhist\n",
    "setup_text_plots(fontsize=14, usetex=True)\n",
    "%matplotlib inline"
   ]
  },
  {
   "cell_type": "markdown",
   "metadata": {},
   "source": [
    "This astroML function adjusts matplotlib settings for a uniform feel in the \n",
    "textbook. Note that with `usetex=True`, fonts are rendered with $\\LaTeX$. This \n",
    "may result in an error if $\\LaTeX$ is not installed on your system.  In that \n",
    "case, you can set usetex to `False`."
   ]
  }
 ],
 "metadata": {
  "anaconda-cloud": {},
  "kernelspec": {
   "display_name": "Python 3 (ipykernel)",
   "language": "python",
   "name": "python3"
  },
  "language_info": {
   "codemirror_mode": {
    "name": "ipython",
    "version": 3
   },
   "file_extension": ".py",
   "mimetype": "text/x-python",
   "name": "python",
   "nbconvert_exporter": "python",
   "pygments_lexer": "ipython3",
   "version": "3.9.12"
  }
 },
 "nbformat": 4,
 "nbformat_minor": 2
}
