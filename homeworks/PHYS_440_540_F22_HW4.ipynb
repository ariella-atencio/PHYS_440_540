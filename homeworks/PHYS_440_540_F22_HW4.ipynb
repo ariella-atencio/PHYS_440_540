{
 "cells": [
  {
   "cell_type": "markdown",
   "metadata": {},
   "source": [
    "# Homework 4: Problems\n",
    "## Due Wednesday 19 October, by 5pm\n",
    "\n",
    "### PHYS 440/540, Fall 2022\n",
    "https://github.com/gtrichards/PHYS_440_540/\n",
    "\n",
    "\n",
    "## Problem 1\n",
    "\n",
    "What does the `s6` attribute measure in the `diabetes` dataset (which is built in to Scikit Learn)?\n",
    "\n",
    "\n",
    "## Problem 2\n",
    "\n",
    "Practice with faces.  Load the classic Olivetti faces dataset using the `sklearn.datasets.fetch_olivetti_faces()` function.  It contains 400 grayscale 64 × 64–pixel images that are flattened to a 1D vector of size 4,096. 40 different people were photographed (10 times each).\n",
    "\n",
    "Use DESCR to learn about the data set.  Then print a listing of the target values.\n",
    "\n",
    "Split the data into a training set, a validation set, and a test set.  Make sure to use stratification.  Most of the data should be in the training set, with the test and validation sets being smaller.\n",
    "\n",
    "Cluster the images using K-means.\n",
    "\n",
    "Visualize your clusters.\n",
    "\n",
    "\n",
    "## Problem 3\n",
    "\n",
    "Use [datasets.make_blobs](https://scikit-learn.org/stable/modules/generated/sklearn.datasets.make_blobs.html#sklearn.datasets.make_blobs) to generate a fake sample of data.  It should have 100 data points each with 3 attributes/features where the objects are grouped into 4 clusters/groups.  Use `random_state=234567`.\n",
    "\n",
    "Illustrate with a 2-D plot of two of the attributes.  Show `X` as a 100x3 table of data.  \n",
    "\n",
    "Do it again in Pandas and give each of the attributes a name.\n",
    "\n",
    "\n",
    "[Possibly useful or of interest](https://medium.com/dunder-data/from-pandas-to-scikit-learn-a-new-exciting-workflow-e88e2271ef62)\n"
   ]
  },
  {
   "cell_type": "markdown",
   "metadata": {},
   "source": [
    "---\n",
    "#### Problem 2 Starter Code"
   ]
  },
  {
   "cell_type": "code",
   "execution_count": 1,
   "metadata": {},
   "outputs": [],
   "source": [
    "from sklearn.datasets import fetch_olivetti_faces\n",
    "\n",
    "olivetti = fetch_olivetti_faces()"
   ]
  },
  {
   "cell_type": "code",
   "execution_count": 2,
   "metadata": {},
   "outputs": [
    {
     "name": "stdout",
     "output_type": "stream",
     "text": [
      ".. _olivetti_faces_dataset:\n",
      "\n",
      "The Olivetti faces dataset\n",
      "--------------------------\n",
      "\n",
      "`This dataset contains a set of face images`_ taken between April 1992 and \n",
      "April 1994 at AT&T Laboratories Cambridge. The\n",
      ":func:`sklearn.datasets.fetch_olivetti_faces` function is the data\n",
      "fetching / caching function that downloads the data\n",
      "archive from AT&T.\n",
      "\n",
      ".. _This dataset contains a set of face images: http://www.cl.cam.ac.uk/research/dtg/attarchive/facedatabase.html\n",
      "\n",
      "As described on the original website:\n",
      "\n",
      "    There are ten different images of each of 40 distinct subjects. For some\n",
      "    subjects, the images were taken at different times, varying the lighting,\n",
      "    facial expressions (open / closed eyes, smiling / not smiling) and facial\n",
      "    details (glasses / no glasses). All the images were taken against a dark\n",
      "    homogeneous background with the subjects in an upright, frontal position \n",
      "    (with tolerance for some side movement).\n",
      "\n",
      "**Data Set Characteristics:**\n",
      "\n",
      "    =================   =====================\n",
      "    Classes                                40\n",
      "    Samples total                         400\n",
      "    Dimensionality                       4096\n",
      "    Features            real, between 0 and 1\n",
      "    =================   =====================\n",
      "\n",
      "The image is quantized to 256 grey levels and stored as unsigned 8-bit \n",
      "integers; the loader will convert these to floating point values on the \n",
      "interval [0, 1], which are easier to work with for many algorithms.\n",
      "\n",
      "The \"target\" for this database is an integer from 0 to 39 indicating the\n",
      "identity of the person pictured; however, with only 10 examples per class, this\n",
      "relatively small dataset is more interesting from an unsupervised or\n",
      "semi-supervised perspective.\n",
      "\n",
      "The original dataset consisted of 92 x 112, while the version available here\n",
      "consists of 64x64 images.\n",
      "\n",
      "When using these images, please give credit to AT&T Laboratories Cambridge.\n",
      "\n"
     ]
    }
   ],
   "source": [
    "#Use DESCR to learn about the data set\n",
    "print(olivetti.DESCR)"
   ]
  },
  {
   "cell_type": "code",
   "execution_count": 3,
   "metadata": {},
   "outputs": [
    {
     "name": "stdout",
     "output_type": "stream",
     "text": [
      "[ 0  0  0  0  0  0  0  0  0  0  1  1  1  1  1  1  1  1  1  1  2  2  2  2\n",
      "  2  2  2  2  2  2  3  3  3  3  3  3  3  3  3  3  4  4  4  4  4  4  4  4\n",
      "  4  4  5  5  5  5  5  5  5  5  5  5  6  6  6  6  6  6  6  6  6  6  7  7\n",
      "  7  7  7  7  7  7  7  7  8  8  8  8  8  8  8  8  8  8  9  9  9  9  9  9\n",
      "  9  9  9  9 10 10 10 10 10 10 10 10 10 10 11 11 11 11 11 11 11 11 11 11\n",
      " 12 12 12 12 12 12 12 12 12 12 13 13 13 13 13 13 13 13 13 13 14 14 14 14\n",
      " 14 14 14 14 14 14 15 15 15 15 15 15 15 15 15 15 16 16 16 16 16 16 16 16\n",
      " 16 16 17 17 17 17 17 17 17 17 17 17 18 18 18 18 18 18 18 18 18 18 19 19\n",
      " 19 19 19 19 19 19 19 19 20 20 20 20 20 20 20 20 20 20 21 21 21 21 21 21\n",
      " 21 21 21 21 22 22 22 22 22 22 22 22 22 22 23 23 23 23 23 23 23 23 23 23\n",
      " 24 24 24 24 24 24 24 24 24 24 25 25 25 25 25 25 25 25 25 25 26 26 26 26\n",
      " 26 26 26 26 26 26 27 27 27 27 27 27 27 27 27 27 28 28 28 28 28 28 28 28\n",
      " 28 28 29 29 29 29 29 29 29 29 29 29 30 30 30 30 30 30 30 30 30 30 31 31\n",
      " 31 31 31 31 31 31 31 31 32 32 32 32 32 32 32 32 32 32 33 33 33 33 33 33\n",
      " 33 33 33 33 34 34 34 34 34 34 34 34 34 34 35 35 35 35 35 35 35 35 35 35\n",
      " 36 36 36 36 36 36 36 36 36 36 37 37 37 37 37 37 37 37 37 37 38 38 38 38\n",
      " 38 38 38 38 38 38 39 39 39 39 39 39 39 39 39 39]\n"
     ]
    }
   ],
   "source": [
    "#View the \"targets\"\n",
    "print(olivetti.target)"
   ]
  },
  {
   "cell_type": "code",
   "execution_count": 4,
   "metadata": {},
   "outputs": [],
   "source": [
    "#Split the data into a training set, a validation set, and a test set.  Make sure to use stratification.  \n",
    "#Most of the data should be in the training set, with the test and validation sets being smaller.\n",
    "\n",
    "from sklearn.model_selection import train_test_split\n",
    "\n",
    "X = olivetti.data\n",
    "y = olivetti.target\n",
    "\n",
    "Xtrainvalid, Xtest, ytrainvalid, ytest = train_test_split(X, y, train_size=0.8, test_size=0.2, random_state=42)\n",
    "Xtrain, Xvalid, ytrain, yvalid = train_test_split(X, y, train_size=0.2, test_size=0.8, random_state=42)"
   ]
  },
  {
   "cell_type": "code",
   "execution_count": 5,
   "metadata": {},
   "outputs": [
    {
     "name": "stdout",
     "output_type": "stream",
     "text": [
      "(80, 4096) (320, 4096) (80, 4096)\n"
     ]
    }
   ],
   "source": [
    "print(Xtrain.shape,Xvalid.shape,Xtest.shape)"
   ]
  },
  {
   "cell_type": "code",
   "execution_count": 6,
   "metadata": {},
   "outputs": [
    {
     "name": "stdout",
     "output_type": "stream",
     "text": [
      "k=0, score=-24002.853515625\n"
     ]
    }
   ],
   "source": [
    "from sklearn.cluster import KMeans\n",
    "\n",
    "k_range = range(0, 1, 100)\n",
    "kmeans_scores = []\n",
    "kmeans_per_k = []\n",
    "for k in k_range:\n",
    "\n",
    "    kmeans = KMeans(n_clusters=3, random_state=42).fit(X,y)\n",
    "    kmeans_per_k.append(olivetti)\n",
    "    \n",
    "    score = kmeans.score(X,y)\n",
    "    kmeans_scores.append(olivetti)\n",
    "    \n",
    "    print(\"k={}, score={}\".format(k,score))"
   ]
  },
  {
   "cell_type": "code",
   "execution_count": 7,
   "metadata": {},
   "outputs": [
    {
     "name": "stdout",
     "output_type": "stream",
     "text": [
      "{'data': array([[0.30991736, 0.3677686 , 0.41735536, ..., 0.15289256, 0.16115703,\n",
      "        0.1570248 ],\n",
      "       [0.45454547, 0.47107437, 0.5123967 , ..., 0.15289256, 0.15289256,\n",
      "        0.15289256],\n",
      "       [0.3181818 , 0.40082645, 0.49173555, ..., 0.14049587, 0.14876033,\n",
      "        0.15289256],\n",
      "       ...,\n",
      "       [0.5       , 0.53305787, 0.607438  , ..., 0.17768595, 0.14876033,\n",
      "        0.19008264],\n",
      "       [0.21487603, 0.21900827, 0.21900827, ..., 0.57438016, 0.59090906,\n",
      "        0.60330576],\n",
      "       [0.5165289 , 0.46280992, 0.28099173, ..., 0.35950413, 0.3553719 ,\n",
      "        0.38429752]], dtype=float32), 'images': array([[[0.30991736, 0.3677686 , 0.41735536, ..., 0.37190083,\n",
      "         0.3305785 , 0.30578512],\n",
      "        [0.3429752 , 0.40495867, 0.43801653, ..., 0.37190083,\n",
      "         0.338843  , 0.3140496 ],\n",
      "        [0.3429752 , 0.41735536, 0.45041323, ..., 0.38016528,\n",
      "         0.338843  , 0.29752067],\n",
      "        ...,\n",
      "        [0.21487603, 0.20661157, 0.2231405 , ..., 0.15289256,\n",
      "         0.16528925, 0.17355372],\n",
      "        [0.20247933, 0.2107438 , 0.2107438 , ..., 0.14876033,\n",
      "         0.16115703, 0.16528925],\n",
      "        [0.20247933, 0.20661157, 0.20247933, ..., 0.15289256,\n",
      "         0.16115703, 0.1570248 ]],\n",
      "\n",
      "       [[0.45454547, 0.47107437, 0.5123967 , ..., 0.19008264,\n",
      "         0.18595041, 0.18595041],\n",
      "        [0.446281  , 0.48347107, 0.5206612 , ..., 0.21487603,\n",
      "         0.2107438 , 0.2107438 ],\n",
      "        [0.49586776, 0.5165289 , 0.53305787, ..., 0.20247933,\n",
      "         0.20661157, 0.20661157],\n",
      "        ...,\n",
      "        [0.77272725, 0.78099173, 0.7933884 , ..., 0.1446281 ,\n",
      "         0.1446281 , 0.1446281 ],\n",
      "        [0.77272725, 0.7768595 , 0.7892562 , ..., 0.13636364,\n",
      "         0.13636364, 0.13636364],\n",
      "        [0.7644628 , 0.7892562 , 0.78099173, ..., 0.15289256,\n",
      "         0.15289256, 0.15289256]],\n",
      "\n",
      "       [[0.3181818 , 0.40082645, 0.49173555, ..., 0.40082645,\n",
      "         0.3553719 , 0.30991736],\n",
      "        [0.30991736, 0.3966942 , 0.47933885, ..., 0.40495867,\n",
      "         0.37603307, 0.30165288],\n",
      "        [0.26859504, 0.34710744, 0.45454547, ..., 0.3966942 ,\n",
      "         0.37190083, 0.30991736],\n",
      "        ...,\n",
      "        [0.1322314 , 0.09917355, 0.08264463, ..., 0.13636364,\n",
      "         0.14876033, 0.15289256],\n",
      "        [0.11570248, 0.09504132, 0.0785124 , ..., 0.1446281 ,\n",
      "         0.1446281 , 0.1570248 ],\n",
      "        [0.11157025, 0.09090909, 0.0785124 , ..., 0.14049587,\n",
      "         0.14876033, 0.15289256]],\n",
      "\n",
      "       ...,\n",
      "\n",
      "       [[0.5       , 0.53305787, 0.607438  , ..., 0.28512397,\n",
      "         0.23966943, 0.21487603],\n",
      "        [0.49173555, 0.5413223 , 0.60330576, ..., 0.29752067,\n",
      "         0.20247933, 0.20661157],\n",
      "        [0.46694216, 0.55785125, 0.6198347 , ..., 0.29752067,\n",
      "         0.17768595, 0.18595041],\n",
      "        ...,\n",
      "        [0.03305785, 0.46280992, 0.5289256 , ..., 0.17355372,\n",
      "         0.17355372, 0.1694215 ],\n",
      "        [0.1570248 , 0.5247934 , 0.53305787, ..., 0.16528925,\n",
      "         0.1570248 , 0.18595041],\n",
      "        [0.45454547, 0.5206612 , 0.53305787, ..., 0.17768595,\n",
      "         0.14876033, 0.19008264]],\n",
      "\n",
      "       [[0.21487603, 0.21900827, 0.21900827, ..., 0.71487606,\n",
      "         0.71487606, 0.6942149 ],\n",
      "        [0.20247933, 0.20661157, 0.20661157, ..., 0.7107438 ,\n",
      "         0.7066116 , 0.6942149 ],\n",
      "        [0.2107438 , 0.20661157, 0.20661157, ..., 0.6859504 ,\n",
      "         0.69008267, 0.6942149 ],\n",
      "        ...,\n",
      "        [0.2644628 , 0.25619835, 0.2603306 , ..., 0.5413223 ,\n",
      "         0.57438016, 0.59090906],\n",
      "        [0.26859504, 0.2644628 , 0.26859504, ..., 0.56198347,\n",
      "         0.58264464, 0.59504133],\n",
      "        [0.27272728, 0.26859504, 0.27272728, ..., 0.57438016,\n",
      "         0.59090906, 0.60330576]],\n",
      "\n",
      "       [[0.5165289 , 0.46280992, 0.28099173, ..., 0.5785124 ,\n",
      "         0.5413223 , 0.60330576],\n",
      "        [0.5165289 , 0.45041323, 0.29338843, ..., 0.58264464,\n",
      "         0.553719  , 0.5785124 ],\n",
      "        [0.5165289 , 0.44214877, 0.29338843, ..., 0.59917355,\n",
      "         0.5785124 , 0.54545456],\n",
      "        ...,\n",
      "        [0.39256197, 0.41322315, 0.38842976, ..., 0.33471075,\n",
      "         0.37190083, 0.3966942 ],\n",
      "        [0.39256197, 0.38429752, 0.40495867, ..., 0.3305785 ,\n",
      "         0.35950413, 0.37603307],\n",
      "        [0.3677686 , 0.40495867, 0.3966942 , ..., 0.35950413,\n",
      "         0.3553719 , 0.38429752]]], dtype=float32), 'target': array([ 0,  0,  0,  0,  0,  0,  0,  0,  0,  0,  1,  1,  1,  1,  1,  1,  1,\n",
      "        1,  1,  1,  2,  2,  2,  2,  2,  2,  2,  2,  2,  2,  3,  3,  3,  3,\n",
      "        3,  3,  3,  3,  3,  3,  4,  4,  4,  4,  4,  4,  4,  4,  4,  4,  5,\n",
      "        5,  5,  5,  5,  5,  5,  5,  5,  5,  6,  6,  6,  6,  6,  6,  6,  6,\n",
      "        6,  6,  7,  7,  7,  7,  7,  7,  7,  7,  7,  7,  8,  8,  8,  8,  8,\n",
      "        8,  8,  8,  8,  8,  9,  9,  9,  9,  9,  9,  9,  9,  9,  9, 10, 10,\n",
      "       10, 10, 10, 10, 10, 10, 10, 10, 11, 11, 11, 11, 11, 11, 11, 11, 11,\n",
      "       11, 12, 12, 12, 12, 12, 12, 12, 12, 12, 12, 13, 13, 13, 13, 13, 13,\n",
      "       13, 13, 13, 13, 14, 14, 14, 14, 14, 14, 14, 14, 14, 14, 15, 15, 15,\n",
      "       15, 15, 15, 15, 15, 15, 15, 16, 16, 16, 16, 16, 16, 16, 16, 16, 16,\n",
      "       17, 17, 17, 17, 17, 17, 17, 17, 17, 17, 18, 18, 18, 18, 18, 18, 18,\n",
      "       18, 18, 18, 19, 19, 19, 19, 19, 19, 19, 19, 19, 19, 20, 20, 20, 20,\n",
      "       20, 20, 20, 20, 20, 20, 21, 21, 21, 21, 21, 21, 21, 21, 21, 21, 22,\n",
      "       22, 22, 22, 22, 22, 22, 22, 22, 22, 23, 23, 23, 23, 23, 23, 23, 23,\n",
      "       23, 23, 24, 24, 24, 24, 24, 24, 24, 24, 24, 24, 25, 25, 25, 25, 25,\n",
      "       25, 25, 25, 25, 25, 26, 26, 26, 26, 26, 26, 26, 26, 26, 26, 27, 27,\n",
      "       27, 27, 27, 27, 27, 27, 27, 27, 28, 28, 28, 28, 28, 28, 28, 28, 28,\n",
      "       28, 29, 29, 29, 29, 29, 29, 29, 29, 29, 29, 30, 30, 30, 30, 30, 30,\n",
      "       30, 30, 30, 30, 31, 31, 31, 31, 31, 31, 31, 31, 31, 31, 32, 32, 32,\n",
      "       32, 32, 32, 32, 32, 32, 32, 33, 33, 33, 33, 33, 33, 33, 33, 33, 33,\n",
      "       34, 34, 34, 34, 34, 34, 34, 34, 34, 34, 35, 35, 35, 35, 35, 35, 35,\n",
      "       35, 35, 35, 36, 36, 36, 36, 36, 36, 36, 36, 36, 36, 37, 37, 37, 37,\n",
      "       37, 37, 37, 37, 37, 37, 38, 38, 38, 38, 38, 38, 38, 38, 38, 38, 39,\n",
      "       39, 39, 39, 39, 39, 39, 39, 39, 39]), 'DESCR': '.. _olivetti_faces_dataset:\\n\\nThe Olivetti faces dataset\\n--------------------------\\n\\n`This dataset contains a set of face images`_ taken between April 1992 and \\nApril 1994 at AT&T Laboratories Cambridge. The\\n:func:`sklearn.datasets.fetch_olivetti_faces` function is the data\\nfetching / caching function that downloads the data\\narchive from AT&T.\\n\\n.. _This dataset contains a set of face images: http://www.cl.cam.ac.uk/research/dtg/attarchive/facedatabase.html\\n\\nAs described on the original website:\\n\\n    There are ten different images of each of 40 distinct subjects. For some\\n    subjects, the images were taken at different times, varying the lighting,\\n    facial expressions (open / closed eyes, smiling / not smiling) and facial\\n    details (glasses / no glasses). All the images were taken against a dark\\n    homogeneous background with the subjects in an upright, frontal position \\n    (with tolerance for some side movement).\\n\\n**Data Set Characteristics:**\\n\\n    =================   =====================\\n    Classes                                40\\n    Samples total                         400\\n    Dimensionality                       4096\\n    Features            real, between 0 and 1\\n    =================   =====================\\n\\nThe image is quantized to 256 grey levels and stored as unsigned 8-bit \\nintegers; the loader will convert these to floating point values on the \\ninterval [0, 1], which are easier to work with for many algorithms.\\n\\nThe \"target\" for this database is an integer from 0 to 39 indicating the\\nidentity of the person pictured; however, with only 10 examples per class, this\\nrelatively small dataset is more interesting from an unsupervised or\\nsemi-supervised perspective.\\n\\nThe original dataset consisted of 92 x 112, while the version available here\\nconsists of 64x64 images.\\n\\nWhen using these images, please give credit to AT&T Laboratories Cambridge.\\n'}\n"
     ]
    }
   ],
   "source": [
    "import numpy as np\n",
    "best_index = np.argmax(k)\n",
    "best_model = kmeans_per_k[k]\n",
    "print(kmeans_scores[best_index])"
   ]
  },
  {
   "cell_type": "code",
   "execution_count": 11,
   "metadata": {},
   "outputs": [
    {
     "ename": "AttributeError",
     "evalue": "labels_",
     "output_type": "error",
     "traceback": [
      "\u001b[0;31m---------------------------------------------------------------------------\u001b[0m",
      "\u001b[0;31mKeyError\u001b[0m                                  Traceback (most recent call last)",
      "File \u001b[0;32m~/anaconda3/lib/python3.9/site-packages/sklearn/utils/__init__.py:117\u001b[0m, in \u001b[0;36mBunch.__getattr__\u001b[0;34m(self, key)\u001b[0m\n\u001b[1;32m    116\u001b[0m \u001b[38;5;28;01mtry\u001b[39;00m:\n\u001b[0;32m--> 117\u001b[0m     \u001b[38;5;28;01mreturn\u001b[39;00m \u001b[38;5;28;43mself\u001b[39;49m\u001b[43m[\u001b[49m\u001b[43mkey\u001b[49m\u001b[43m]\u001b[49m\n\u001b[1;32m    118\u001b[0m \u001b[38;5;28;01mexcept\u001b[39;00m \u001b[38;5;167;01mKeyError\u001b[39;00m:\n",
      "\u001b[0;31mKeyError\u001b[0m: 'labels_'",
      "\nDuring handling of the above exception, another exception occurred:\n",
      "\u001b[0;31mAttributeError\u001b[0m                            Traceback (most recent call last)",
      "Input \u001b[0;32mIn [11]\u001b[0m, in \u001b[0;36m<cell line: 14>\u001b[0;34m()\u001b[0m\n\u001b[1;32m     11\u001b[0m         plt\u001b[38;5;241m.\u001b[39mtitle(label)\n\u001b[1;32m     12\u001b[0m     plt\u001b[38;5;241m.\u001b[39mshow()\n\u001b[0;32m---> 14\u001b[0m \u001b[38;5;28;01mfor\u001b[39;00m cluster_id \u001b[38;5;129;01min\u001b[39;00m np\u001b[38;5;241m.\u001b[39munique(\u001b[43mbest_model\u001b[49m\u001b[38;5;241;43m.\u001b[39;49m\u001b[43mlabels_\u001b[49m):\n\u001b[1;32m     15\u001b[0m     \u001b[38;5;28mprint\u001b[39m(\u001b[38;5;124m\"\u001b[39m\u001b[38;5;124mCluster\u001b[39m\u001b[38;5;124m\"\u001b[39m, cluster_id)\n\u001b[1;32m     16\u001b[0m     in_cluster \u001b[38;5;241m=\u001b[39m best_model\u001b[38;5;241m.\u001b[39mlabels_\u001b[38;5;241m==\u001b[39mcluster_id\n",
      "File \u001b[0;32m~/anaconda3/lib/python3.9/site-packages/sklearn/utils/__init__.py:119\u001b[0m, in \u001b[0;36mBunch.__getattr__\u001b[0;34m(self, key)\u001b[0m\n\u001b[1;32m    117\u001b[0m     \u001b[38;5;28;01mreturn\u001b[39;00m \u001b[38;5;28mself\u001b[39m[key]\n\u001b[1;32m    118\u001b[0m \u001b[38;5;28;01mexcept\u001b[39;00m \u001b[38;5;167;01mKeyError\u001b[39;00m:\n\u001b[0;32m--> 119\u001b[0m     \u001b[38;5;28;01mraise\u001b[39;00m \u001b[38;5;167;01mAttributeError\u001b[39;00m(key)\n",
      "\u001b[0;31mAttributeError\u001b[0m: labels_"
     ]
    }
   ],
   "source": [
    "#Nothing for you to fill in here, but try to understand what it is doing\n",
    "\n",
    "def plot_faces(faces, labels, n_cols=5):\n",
    "    faces = faces.reshape(-1, 64, 64)\n",
    "    n_rows = (len(faces) - 1) // n_cols + 1\n",
    "    plt.figure(figsize=(n_cols, n_rows * 1.1))\n",
    "    for index, (face, label) in enumerate(zip(faces, labels)):\n",
    "        plt.subplot(n_rows, n_cols, index + 1)\n",
    "        plt.imshow(face, cmap=\"gray\", origin='upper')\n",
    "        plt.axis(\"off\")\n",
    "        plt.title(label)\n",
    "    plt.show()\n",
    "\n",
    "for cluster_id in np.unique(best_model.labels_):\n",
    "    print(\"Cluster\", cluster_id)\n",
    "    in_cluster = best_model.labels_==cluster_id\n",
    "    faces = Xtrain[in_cluster]\n",
    "    labels = ytrain[in_cluster]\n",
    "    plot_faces(faces, labels)"
   ]
  },
  {
   "cell_type": "markdown",
   "metadata": {},
   "source": [
    "---\n",
    "\n",
    "#### Problem 3 Starter Code"
   ]
  },
  {
   "cell_type": "code",
   "execution_count": 13,
   "metadata": {},
   "outputs": [],
   "source": [
    "from sklearn import datasets\n",
    "X,y = datasets.make_blobs(n_samples=100,centers=4, n_features=3,random_state=234567)"
   ]
  },
  {
   "cell_type": "code",
   "execution_count": 15,
   "metadata": {},
   "outputs": [
    {
     "data": {
      "text/plain": [
       "<matplotlib.legend.Legend at 0x7fc8f26ad1f0>"
      ]
     },
     "execution_count": 15,
     "metadata": {},
     "output_type": "execute_result"
    },
    {
     "data": {
      "image/png": "[encoded data removed]",
      "text/plain": [
       "<Figure size 432x288 with 1 Axes>"
      ]
     },
     "metadata": {
      "needs_background": "light"
     },
     "output_type": "display_data"
    }
   ],
   "source": [
    "import numpy as np\n",
    "import matplotlib.pyplot as plt\n",
    "from matplotlib import cm\n",
    "\n",
    "plt.figure() #setup plot\n",
    "\n",
    "#Needed to plot clusters in color according to their labels\n",
    "y_unique = np.unique(y) \n",
    "colors = cm.rainbow(np.linspace(0.0, 1.0, y_unique.size))\n",
    "for this_y, color in zip(y_unique, colors):\n",
    "    this_X = X[y == this_y]\n",
    "    # Plot the first two columns for all of the objects\n",
    "    plt.scatter(this_X[:,None], this_X[None,:], c=color[np.newaxis, :],\\\n",
    "                alpha=0.5, edgecolor='k', label=\"Class %s\" % this_y)\n",
    "    \n",
    "plt.legend(loc=\"best\")"
   ]
  },
  {
   "cell_type": "code",
   "execution_count": 16,
   "metadata": {},
   "outputs": [
    {
     "name": "stdout",
     "output_type": "stream",
     "text": [
      "[[-8.88678591e+00  2.26385492e-01  6.34336002e+00]\n",
      " [-7.66300575e+00  2.62764188e-01  4.70533165e+00]\n",
      " [-7.57189171e-03 -1.33418557e+00 -6.20717679e-01]\n",
      " [ 7.39811690e+00  4.92654949e+00 -2.21665623e+00]\n",
      " [-3.08525484e-01 -5.29392058e+00  5.78287897e+00]\n",
      " [-9.24181021e+00  2.93708855e+00  5.83998437e+00]\n",
      " [ 6.93926641e+00  6.63313185e+00 -1.04120531e+00]\n",
      " [-6.98811115e+00  2.13077879e+00  6.97916817e+00]\n",
      " [ 6.98315848e+00  6.97511829e+00  5.94233954e-02]\n",
      " [-8.36910960e+00  2.65116957e+00  3.94426194e+00]\n",
      " [-1.39487797e+00 -3.25475061e+00  6.41398505e+00]\n",
      " [-8.31347034e+00  2.42628604e+00  4.94385582e+00]\n",
      " [-1.04436025e+00 -6.10441032e-01  1.17071136e+00]\n",
      " [-7.41071086e+00  3.53196607e+00  6.18979785e+00]\n",
      " [-8.68638781e+00  2.61911487e+00  3.21670566e+00]\n",
      " [ 6.89559168e+00  5.20313115e+00 -3.14799551e-02]\n",
      " [-1.40165125e+00 -2.36903614e+00 -1.28871159e+00]\n",
      " [ 1.57734751e+00 -7.72777461e-01 -1.54591814e+00]\n",
      " [ 7.03377876e+00  5.97525133e+00 -1.09629523e+00]\n",
      " [ 4.68300168e-01 -6.06421235e+00  6.17144665e+00]\n",
      " [ 8.17717723e+00  5.31427626e+00  2.35304537e+00]\n",
      " [-2.24472490e+00 -1.56641944e+00 -3.38188468e-01]\n",
      " [ 8.60390332e+00  6.35267471e+00 -1.65157194e-01]\n",
      " [-6.78870310e+00  1.95323575e+00  5.10724347e+00]\n",
      " [-3.86285489e-01 -1.19057881e+00  1.24008779e+00]\n",
      " [-1.03516416e+01  3.12285846e+00  5.77236979e+00]\n",
      " [ 5.40624543e-01 -8.89890417e-01  4.05471374e-01]\n",
      " [-8.11861762e+00  2.21888713e+00  5.96829472e+00]\n",
      " [-8.50253997e+00  2.80479476e+00  4.80503851e+00]\n",
      " [-6.87353896e-01 -1.02729549e+00 -7.57258702e-01]\n",
      " [ 8.07280111e+00  4.90581820e+00 -8.12143740e-01]\n",
      " [-1.46842061e+00 -6.07433509e+00  6.72096621e+00]\n",
      " [-7.36188928e+00  3.01408447e+00  5.90205987e+00]\n",
      " [-1.59857670e+00 -1.53296789e+00 -3.63036195e-01]\n",
      " [-3.61224635e-01 -4.33390986e+00  6.33659206e+00]\n",
      " [ 9.45856470e+00  6.56877211e+00 -1.94217971e+00]\n",
      " [-7.47643968e+00  2.84277918e+00  5.81839619e+00]\n",
      " [-3.20711754e-01 -4.79606354e+00  7.60120377e+00]\n",
      " [-1.15262242e+00 -1.59180806e+00  4.08623546e-01]\n",
      " [ 6.27820704e+00  4.92937206e+00 -1.15658955e-01]\n",
      " [ 7.38042126e+00  6.53675458e+00 -1.27598061e-01]\n",
      " [-8.40636011e+00  2.77347983e-01  3.19278309e+00]\n",
      " [-8.47829062e+00  4.06621864e+00  4.81859684e+00]\n",
      " [-8.76625397e+00  3.14753344e+00  7.69892854e+00]\n",
      " [-1.01116628e+01  2.42124941e+00  6.20165655e+00]\n",
      " [-8.55960204e+00  1.23239823e+00  6.46903550e+00]\n",
      " [-1.04439742e+00 -4.18457042e+00  7.86693730e+00]\n",
      " [ 5.83514905e+00  5.90272225e+00  1.39585337e+00]\n",
      " [-6.52463100e-01 -2.69280792e+00 -1.03288299e+00]\n",
      " [-7.48865548e+00  2.91266283e+00  6.09726872e+00]\n",
      " [ 2.21100151e+00 -3.22108842e+00  5.14518171e+00]\n",
      " [ 2.30728137e-01 -4.23618816e+00  7.35127555e+00]\n",
      " [ 2.64503851e-01 -4.87742785e+00  6.28159724e+00]\n",
      " [ 6.26684507e+00  4.48466921e+00  5.35103157e-01]\n",
      " [ 1.15033985e+00 -4.66016536e+00  5.51425234e+00]\n",
      " [-1.06746112e+00 -1.07867806e+00  3.28071596e-01]\n",
      " [-1.59855654e+00 -4.32958205e+00  7.38346844e+00]\n",
      " [ 1.05907342e+00 -5.03109315e+00  5.01153029e+00]\n",
      " [-3.50855208e+00 -8.29823592e-01 -1.32360457e+00]\n",
      " [ 3.86378079e-02 -1.70345683e+00  7.42478915e-01]\n",
      " [-8.23379149e+00  1.09307595e+00  4.35605989e+00]\n",
      " [-2.30159550e-01 -1.31351220e+00  8.86227792e-01]\n",
      " [-1.17379700e+00 -5.86418566e+00  7.97234363e+00]\n",
      " [ 7.79409679e+00  6.89570069e+00  7.33019281e-01]\n",
      " [-1.13485902e+00 -1.52714421e+00  6.59604717e-01]\n",
      " [-5.48683556e-02 -5.12020689e+00  8.42999926e+00]\n",
      " [-8.97425251e+00  2.08695451e+00  5.89744699e+00]\n",
      " [-2.76620362e+00 -2.36925552e+00 -4.01028027e-01]\n",
      " [ 2.64310817e-01 -5.92171767e+00  6.81661191e+00]\n",
      " [-7.88718438e+00  8.77206014e-01  5.48108312e+00]\n",
      " [-1.32660808e+00 -1.86497881e+00 -9.94613155e-01]\n",
      " [ 8.20388567e+00  4.19414936e+00  2.28586348e-01]\n",
      " [ 7.38505642e+00  6.12779705e+00  4.97026061e-02]\n",
      " [-2.12942375e+00 -3.24787305e+00  6.74899779e+00]\n",
      " [ 2.46979000e-04 -5.95621424e-01 -1.60874135e+00]\n",
      " [ 6.84660531e+00  6.20508587e+00  2.78553555e-01]\n",
      " [ 8.09134663e+00  6.18499568e+00  2.07208706e+00]\n",
      " [-8.33165540e+00  2.59598566e+00  5.15401963e+00]\n",
      " [ 8.19986270e+00  5.80980858e+00  1.78477769e-01]\n",
      " [ 1.04296452e+00 -4.82746209e+00  6.63039302e+00]\n",
      " [ 1.23947681e+00 -7.50079168e-01 -5.68563183e-01]\n",
      " [ 6.28274066e-01 -4.16992362e+00  6.11403251e+00]\n",
      " [ 1.00750367e+01  6.11061764e+00  6.30111186e-01]\n",
      " [ 7.05010666e+00  6.38592502e+00  7.64260570e-01]\n",
      " [ 8.25911917e+00  6.12343815e+00  1.24960919e+00]\n",
      " [ 3.78493847e-01 -5.18345658e+00  6.58137007e+00]\n",
      " [-1.93836199e+00 -1.31050951e+00 -1.60262345e-01]\n",
      " [ 6.52332813e+00  5.50314476e+00  8.23021401e-01]\n",
      " [ 4.98691924e-01 -5.93340035e+00  7.37208805e+00]\n",
      " [ 4.47052471e-01 -4.12249356e+00  5.61606871e+00]\n",
      " [-5.32111505e-01  4.28534521e-01 -5.47717172e-01]\n",
      " [ 5.49110069e-01 -4.77407192e+00  8.04376939e+00]\n",
      " [ 8.53101167e+00  6.85220932e+00  8.59060857e-01]\n",
      " [-3.34688352e-01 -3.82033560e+00  8.18574784e+00]\n",
      " [-8.78062138e+00  3.15240446e+00  6.37980839e+00]\n",
      " [-1.77598257e+00 -5.22367285e+00  6.96277385e+00]\n",
      " [-5.12391366e-01 -1.53708497e-01  3.93151636e-01]\n",
      " [ 7.74255981e+00  6.58485625e+00 -2.48695188e-01]\n",
      " [ 7.89639560e-01 -1.59999164e+00 -3.42891486e-01]\n",
      " [ 8.68328122e-01  5.48878372e-01 -2.54079088e+00]]\n"
     ]
    }
   ],
   "source": [
    "print(X)"
   ]
  },
  {
   "cell_type": "code",
   "execution_count": 19,
   "metadata": {},
   "outputs": [
    {
     "name": "stdout",
     "output_type": "stream",
     "text": [
      "[[0 1]\n",
      " [2 3]]\n"
     ]
    }
   ],
   "source": [
    "#Now with Pandas\n",
    "import pandas as pd\n",
    "dfX = pd.unique(y)\n",
    "dfX.shape= [2,2]\n",
    "print(dfX)"
   ]
  },
  {
   "cell_type": "code",
   "execution_count": null,
   "metadata": {},
   "outputs": [],
   "source": []
  }
 ],
 "metadata": {
  "anaconda-cloud": {},
  "kernelspec": {
   "display_name": "Python 3 (ipykernel)",
   "language": "python",
   "name": "python3"
  },
  "language_info": {
   "codemirror_mode": {
    "name": "ipython",
    "version": 3
   },
   "file_extension": ".py",
   "mimetype": "text/x-python",
   "name": "python",
   "nbconvert_exporter": "python",
   "pygments_lexer": "ipython3",
   "version": "3.9.12"
  }
 },
 "nbformat": 4,
 "nbformat_minor": 2
}
